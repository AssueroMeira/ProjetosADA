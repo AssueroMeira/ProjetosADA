{
  "nbformat": 4,
  "nbformat_minor": 0,
  "metadata": {
    "colab": {
      "provenance": []
    },
    "kernelspec": {
      "name": "python3",
      "display_name": "Python 3"
    },
    "language_info": {
      "name": "python"
    }
  },
  "cells": [
    {
      "cell_type": "markdown",
      "source": [
        "# K-Nearest Neighbors - KNN"
      ],
      "metadata": {
        "id": "PXj6CognpMqW"
      }
    },
    {
      "cell_type": "markdown",
      "source": [
        "Método não paramétrico de classificação de padrões. O KNN parte do princípio que coisas semelhantes estão em proximidade umas das outras, ou seja, semlhante atraí semelhante.\n"
      ],
      "metadata": {
        "id": "SJ-rKgKFqBXI"
      }
    },
    {
      "cell_type": "markdown",
      "source": [
        "## Características\n",
        "\n",
        "- Simples\n",
        "- Interpretável\n",
        "- Largamente conhecido e estudado\n",
        "- Razoavelmente rápido\n",
        "\n",
        "Por conta disso é um ótimo benchmark"
      ],
      "metadata": {
        "id": "tmPzDaxJDvkh"
      }
    },
    {
      "cell_type": "markdown",
      "source": [
        "## Algoritmo\n",
        "\n",
        "- Passo 1:\n",
        "    Definir um valor para K\n",
        "- Passo 2:\n",
        "    Definir os K vizinhos mais próximos do ponto a ser classificado de acordo com uma função de distância.\n",
        "- Passo 3:\n",
        "    - Se for um problema de **Regressão**:\n",
        "        Calcular a **média** de todos os vizinhos.\n",
        "    - Se for um problema de **Classificação**:\n",
        "        Calcular a **moda** de todos os vizinhos.\n",
        "- Passo 4:\n",
        "    Atribuir o valor/classe ao ponto de interesse conforme cálculo do Passo 3."
      ],
      "metadata": {
        "id": "oFBnm49yEOa9"
      }
    },
    {
      "cell_type": "markdown",
      "source": [
        "## Definição do Problema\n",
        "\n",
        "### Dados\n",
        "Os dados abaixo são referentes ao cadastro de clientes de uma empresa de investimentos com suas respectivas carteira de investimentos, que indica se esse cliente tem o perfil de investidor **Conservador**, **Moderado** ou **Agressivo**. O nosso intuito é, a partir do investimento de alguns clientes que já tem um perfil definido, estimar esse perfil para aqueles que ainda não estão classificado, afim de oferecer novos produtos que sejam mais adequados a eles.\n",
        "\n",
        "Os dados abaixo seguem o seguinte padrão:\n",
        "\n",
        "[**CPF**: INT, **Perfil Do Investidor**: STRING, **Carteira de Investimento**: TUPLA]\n",
        "\n",
        "### Regras\n",
        "- Se você precisar de uma função para computar algo crie ela\n",
        "- Não é permitido usar nenhum módulo externo como numpy e math\n",
        "- Use apenas os objetos e fluxos visto até o momento no curso\n",
        "- Se você tiver dificuldade de trabalhar com mais de 2 dimensões, pode utilizar apenas os dois primeiros valores de cada tupla\n",
        "- O objetivo principal desse projeto não é encontrar o modelo de knn mais otimizado, mas sim você conseguir criar um modelo de KNN, independente se ele é o melhor ou não\n",
        "- Não precisa se preocupar com a normalização das dimensões. É algo que vocês não viram"
      ],
      "metadata": {
        "id": "k469uHRNEhZ3"
      }
    },
    {
      "cell_type": "markdown",
      "source": [
        "##Lógica do programa\n",
        "\n",
        "\n",
        "\n",
        "**Objetivo**: estimar um perfil de investidorpara cada cliente da lista 'no_class', a partir de método K-NN.\n",
        "\n",
        "\n",
        "\n",
        "1.   O primeiro passo é treinar o modelo com base em dados conhecidos. Para isso, vamos usar a lista de listas (data).\n",
        "\n",
        "continua...\n",
        "\n",
        "\n",
        "\n",
        "\n",
        "\n",
        "\n",
        "\n",
        "\n",
        "\n",
        "\n",
        "\n",
        "\n",
        "\n"
      ],
      "metadata": {
        "id": "bKoEzrhMFlvB"
      }
    },
    {
      "cell_type": "code",
      "source": [
        "data = [[66707599984, 'Conservador', (5100., 3500., 1400., 200.)],\n",
        " [55695397315, 'Conservador', (4900., 3000., 1400., 200.)],\n",
        " [63743886918, 'Conservador', (4700., 3200., 1300., 200.)],\n",
        " [55941368774, 'Conservador', (4600., 3100., 1500., 200.)],\n",
        " [75486280874, 'Conservador', (5000., 3600., 1400., 200.)],\n",
        " [53164949799, 'Conservador', (5400., 3900., 1700., 400.)],\n",
        " [39898704131, 'Conservador', (4600., 3400., 1400., 300.)],\n",
        " [53740901207, 'Conservador', (5000., 3400., 1500., 200.)],\n",
        " [51735950236, 'Conservador', (4400., 2900., 1400., 200.)],\n",
        " [47305108951, 'Conservador', (4900., 3100., 1500., 100.)],\n",
        " [63858864633, 'Conservador', (5400., 3700., 1500., 200.)],\n",
        " [53363167240, 'Conservador', (4800., 3400., 1600., 200.)],\n",
        " [72133754195, 'Conservador', (4800., 3000., 1400., 100.)],\n",
        " [52802483512, 'Conservador', (4300., 3000., 1100., 100.)],\n",
        " [57925287214, 'Conservador', (4800., 3400., 1900., 200.)],\n",
        " [74354632224, 'Conservador', (5000., 3000., 1600., 200.)],\n",
        " [64020216626, 'Conservador', (5000., 3400., 1600., 400.)],\n",
        " [78223722856, 'Conservador', (5200., 3500., 1500., 200.)],\n",
        " [58245228846, 'Conservador', (5200., 3400., 1400., 200.)],\n",
        " [74490686776, 'Conservador', (4700., 3200., 1600., 200.)],\n",
        " [48646824781, 'Conservador', (4800., 3100., 1600., 200.)],\n",
        " [77381458676, 'Conservador', (5400., 3400., 1500., 400.)],\n",
        " [41615431874, 'Conservador', (5200., 4100., 1500., 100.)],\n",
        " [52163844491, 'Conservador', (5500., 4200., 1400., 200.)],\n",
        " [70276304567, 'Conservador', (4900., 3100., 1500., 200.)],\n",
        " [69119828185, 'Conservador', (5000., 3200., 1200., 200.)],\n",
        " [65441690046, 'Conservador', (5500., 3500., 1300., 200.)],\n",
        " [56457227894, 'Conservador', (4900., 3600., 1400., 100.)],\n",
        " [46939428126, 'Conservador', (4400., 3000., 1300., 200.)],\n",
        " [60979942480, 'Conservador', (5100., 3400., 1500., 200.)],\n",
        " [41648583220, 'Conservador', (5000., 3500., 1300., 300.)],\n",
        " [50376331791, 'Conservador', (4500., 2300., 1300., 300.)],\n",
        " [67008801023, 'Conservador', (4400., 3200., 1300., 200.)],\n",
        " [72149193419, 'Conservador', (5000., 3500., 1600., 600.)],\n",
        " [62830733382, 'Conservador', (5100., 3800., 1900., 400.)],\n",
        " [56716675811, 'Conservador', (4800., 3000., 1400., 300.)],\n",
        " [61089667146, 'Conservador', (5100., 3800., 1600., 200.)],\n",
        " [47795509468, 'Conservador', (4600., 3200., 1400., 200.)],\n",
        " [60899885693, 'Conservador', (5300., 3700., 1500., 200.)],\n",
        " [53433670705, 'Conservador', (5000., 3300., 1400., 200.)],\n",
        " [54850120580, 'Moderado', (7000., 3200., 4700., 1400.)],\n",
        " [71457789994, 'Moderado', (6400., 3200., 4500., 1500.)],\n",
        " [67692777563, 'Moderado', (6900., 3100., 4900., 1500.)],\n",
        " [43133573182, 'Moderado', (5500., 2300., 4000., 1300.)],\n",
        " [55150612815, 'Moderado', (6500., 2800., 4600., 1500.)],\n",
        " [48211725243, 'Moderado', (5700., 2800., 4500., 1300.)],\n",
        " [76686463776, 'Moderado', (6300., 3300., 4700., 1600.)],\n",
        " [71971000560, 'Moderado', (4900., 2400., 3300., 1000.)],\n",
        " [40307235992, 'Moderado', (6600., 2900., 4600., 1300.)],\n",
        " [44826533081, 'Moderado', (5200., 2700., 3900., 1400.)],\n",
        " [45735414894, 'Moderado', (5900., 3200., 4800., 1800.)],\n",
        " [57137146514, 'Moderado', (6100., 2800., 4000., 1300.)],\n",
        " [53657058251, 'Moderado', (6300., 2500., 4900., 1500.)],\n",
        " [52941460485, 'Moderado', (6100., 2800., 4700., 1200.)],\n",
        " [44306600683, 'Moderado', (6400., 2900., 4300., 1300.)],\n",
        " [43460747924, 'Moderado', (6600., 3000., 4400., 1400.)],\n",
        " [75590376075, 'Moderado', (6800., 2800., 4800., 1400.)],\n",
        " [68267282206, 'Moderado', (6700., 3000., 5000., 1700.)],\n",
        " [77567920298, 'Moderado', (6000., 2900., 4500., 1500.)],\n",
        " [67600419504, 'Moderado', (5700., 2600., 3500., 1000.)],\n",
        " [44902189811, 'Moderado', (5500., 2400., 3800., 1100.)],\n",
        " [62966866614, 'Moderado', (5500., 2400., 3700., 1000.)],\n",
        " [56182108880, 'Moderado', (5800., 2700., 3900., 1200.)],\n",
        " [78299785392, 'Moderado', (6000., 2700., 5100., 1600.)],\n",
        " [45206071878, 'Moderado', (5400., 3000., 4500., 1500.)],\n",
        " [57381925887, 'Moderado', (6000., 3400., 4500., 1600.)],\n",
        " [65654934891, 'Moderado', (6700., 3100., 4700., 1500.)],\n",
        " [56130640481, 'Moderado', (6300., 2300., 4400., 1300.)],\n",
        " [59667611672, 'Moderado', (5600., 3000., 4100., 1300.)],\n",
        " [40349334385, 'Moderado', (5500., 2500., 4000., 1300.)],\n",
        " [68422640081, 'Moderado', (5500., 2600., 4400., 1200.)],\n",
        " [55245923439, 'Moderado', (6100., 3000., 4600., 1400.)],\n",
        " [51286696873, 'Moderado', (5800., 2600., 4000., 1200.)],\n",
        " [41065279767, 'Moderado', (5000., 2300., 3300., 1000.)],\n",
        " [42866454119, 'Moderado', (5600., 2700., 4200., 1300.)],\n",
        " [61962944542, 'Moderado', (5700., 3000., 4200., 1200.)],\n",
        " [48623501235, 'Moderado', (5700., 2900., 4200., 1300.)],\n",
        " [49475220139, 'Moderado', (6200., 2900., 4300., 1300.)],\n",
        " [52245218531, 'Moderado', (5100., 2500., 3000., 1100.)],\n",
        " [50932926697, 'Moderado', (5700., 2800., 4100., 1300.)],\n",
        " [47432932248, 'Agressivo', (6300., 3300., 6000., 2500.)],\n",
        " [39321991579, 'Agressivo', (5800., 2700., 5100., 1900.)],\n",
        " [46283759608, 'Agressivo', (7100., 3000., 5900., 2100.)],\n",
        " [56996272538, 'Agressivo', (6300., 2900., 5600., 1800.)],\n",
        " [77232189978, 'Agressivo', (6500., 3000., 5800., 2200.)],\n",
        " [77183282421, 'Agressivo', (7600., 3000., 6600., 2100.)],\n",
        " [42857147573, 'Agressivo', (4900., 2500., 4500., 1700.)],\n",
        " [39331584043, 'Agressivo', (7300., 2900., 6300., 1800.)],\n",
        " [48130345228, 'Agressivo', (6700., 2500., 5800., 1800.)],\n",
        " [71422443953, 'Agressivo', (7200., 3600., 6100., 2500.)],\n",
        " [72508507904, 'Agressivo', (6900., 3200., 5700., 2300.)],\n",
        " [41188727558, 'Agressivo', (5600., 2800., 4900., 2000.)],\n",
        " [61358776640, 'Agressivo', (7700., 2800., 6700., 2000.)],\n",
        " [66934042323, 'Agressivo', (6300., 2700., 4900., 1800.)],\n",
        " [40622495567, 'Agressivo', (6700., 3300., 5700., 2100.)],\n",
        " [57221661311, 'Agressivo', (7200., 3200., 6000., 1800.)],\n",
        " [45159362930, 'Agressivo', (6200., 2800., 4800., 1800.)],\n",
        " [45018975174, 'Agressivo', (6100., 3000., 4900., 1800.)],\n",
        " [70685429140, 'Agressivo', (6400., 2800., 5600., 2100.)],\n",
        " [61808723477, 'Agressivo', (7200., 3000., 5800., 1600.)],\n",
        " [56363906548, 'Agressivo', (7400., 2800., 6100., 1900.)],\n",
        " [39646194720, 'Agressivo', (7900., 3800., 6400., 2000.)],\n",
        " [55385494438, 'Agressivo', (6400., 2800., 5600., 2200.)],\n",
        " [75796138061, 'Agressivo', (6300., 2800., 5100., 1500.)],\n",
        " [53595767857, 'Agressivo', (6100., 2600., 5600., 1400.)],\n",
        " [48758828080, 'Agressivo', (7700., 3000., 6100., 2300.)],\n",
        " [58387651356, 'Agressivo', (6300., 3400., 5600., 2400.)],\n",
        " [72846931192, 'Agressivo', (6400., 3100., 5500., 1800.)],\n",
        " [47046896346, 'Agressivo', (6000., 3000., 4800., 1800.)],\n",
        " [69730292799, 'Agressivo', (6900., 3100., 5400., 2100.)],\n",
        " [48177836349, 'Agressivo', (6700., 3100., 5600., 2400.)],\n",
        " [57976326635, 'Agressivo', (6900., 3100., 5100., 2300.)],\n",
        " [55710813002, 'Agressivo', (5800., 2700., 5100., 1900.)],\n",
        " [64028580439, 'Agressivo', (6800., 3200., 5900., 2300.)],\n",
        " [49962942971, 'Agressivo', (6700., 3300., 5700., 2500.)],\n",
        " [47250893163, 'Agressivo', (6700., 3000., 5200., 2300.)],\n",
        " [75559276274, 'Agressivo', (6300., 2500., 5000., 1900.)],\n",
        " [58529878272, 'Agressivo', (6500., 3000., 5200., 2000.)],\n",
        " [76005896622, 'Agressivo', (6200., 3400., 5400., 2300.)],\n",
        " [49212614633, 'Agressivo', (5900., 3000., 5100., 1800.)]]\n",
        "\n",
        "no_class = [[45926320819, '', (5800., 4000., 1200., 200.)],\n",
        " [52559670741, '', (5700., 4400., 1500., 400.)],\n",
        " [59016004832, '', (5400., 3900., 1300., 400.)],\n",
        " [66175672425, '', (5100., 3500., 1400., 300.)],\n",
        " [53330429526, '', (5700., 3800., 1700., 300.)],\n",
        " [43765563403, '', (5100., 3800., 1500., 300.)],\n",
        " [68020822591, '', (5400., 3400., 1700., 200.)],\n",
        " [53939481689, '', (5100., 3700., 1500., 400.)],\n",
        " [47014057561, '', (4600., 3600., 1000., 200.)],\n",
        " [57183542047, '', (5100., 3300., 1700., 500.)],\n",
        "\n",
        " [68518284363, '', (5000., 2000., 3500., 1000.)],\n",
        " [65806049885, '', (5900., 3000., 4200., 1500.)],\n",
        " [54128073086, '', (6000., 2200., 4000., 1000.)],\n",
        " [41306785494, '', (6100., 2900., 4700., 1400.)],\n",
        " [65234831039, '', (5600., 2900., 3600., 1300.)],\n",
        " [50964498067, '', (6700., 3100., 4400., 1400.)],\n",
        " [50810951429, '', (5600., 3000., 4500., 1500.)],\n",
        " [48765044397, '', (5800., 2700., 4100., 1000.)],\n",
        " [41960083761, '', (6200., 2200., 4500., 1500.)],\n",
        " [76657763082, '', (5600., 2500., 3900., 1100.)],\n",
        "\n",
        " [64726487742, '', (6500., 3200., 5100., 2000.)],\n",
        " [75746566283, '', (6400., 2700., 5300., 1900.)],\n",
        " [78576734793, '', (6800., 3000., 5500., 2100.)],\n",
        " [56440141847, '', (5700., 2500., 5000., 2000.)],\n",
        " [66827423000, '', (5800., 2800., 5100., 2400.)],\n",
        " [45267873396, '', (6400., 3200., 5300., 2300.)],\n",
        " [46387191493, '', (6500., 3000., 5500., 1800.)],\n",
        " [54273611732, '', (7700., 3800., 6700., 2200.)],\n",
        " [75135392881, '', (7700., 2600., 6900., 2300.)],\n",
        " [64703873108, '', (6000., 2200., 5000., 1500.)]]"
      ],
      "metadata": {
        "id": "96iYg55ftp7a"
      },
      "execution_count": 14,
      "outputs": []
    },
    {
      "cell_type": "markdown",
      "source": [
        "2.   Contudo, (data) pode ser muito grande e, mesmo para efeito deste projeto, farei com uma amostra de (data). Como não podemos usar nenhum módulo externo. Farei uma amostra não aleatória, para isso criarei a função amostraNaoAleatoria(dataSet).\n"
      ],
      "metadata": {
        "id": "OmJinVVKxLkn"
      }
    },
    {
      "cell_type": "code",
      "source": [
        "def amostraNaoAleatoria(dataSet):\n",
        "  'Coleta 30 elementos de 2 em 2 da lista de entrada.'\n",
        "  amostraDataSet = []\n",
        "  n = len(dataSet)\n",
        "  for a in range(0, n, 2):\n",
        "    amostraDataSet.append(dataSet[a])\n",
        "  return amostraDataSet\n",
        "\n",
        "#sample = amostraNaoAleatoria(data)\n",
        "#sample\n"
      ],
      "metadata": {
        "id": "EJzov4hztdzL"
      },
      "execution_count": 15,
      "outputs": []
    },
    {
      "cell_type": "markdown",
      "source": [
        "3.   Para realizar os cálculos de distância precisamos acessar os dados dentro das tuplas e realizar operações matemáticas. Então após, selecionar uma amostra de (data), converteremos as tuplas em listas com a função converteEmLista(tuplas). Faremos isso para (data) e (no_class)."
      ],
      "metadata": {
        "id": "psvEx35-LdDq"
      }
    },
    {
      "cell_type": "code",
      "source": [
        "def converteEmLista(tuplas):\n",
        "  'Converte o terceiro elemento de cada sublista em uma lista.'\n",
        "  for i in range(len(tuplas)):\n",
        "  # Convertendo o terceiro elemento da sublista em uma lista\n",
        "    tuplas[i][2] = list(tuplas[i][2])\n",
        "  return tuplas\n",
        "\n",
        "\n",
        "#dadosConvertidosLista = converteEmLista(sample)\n",
        "#dadosConvertidosLista"
      ],
      "metadata": {
        "id": "Xr8kn4C6dv0m"
      },
      "execution_count": 16,
      "outputs": []
    },
    {
      "cell_type": "markdown",
      "source": [
        "4.   Considerando os valores das tuplas, faremos uma normalização. Combinarei as duas listas (data) e (no_class) para que a normalização siga a mesma regra, em seguida iremos separá-los em listas distintas. Abaixo, segue a fórmula utilizada:\n",
        "\n",
        "**Fórmula**: Valor normalizado = (x - min(A)) / (max(A) - min(A))\n",
        "\n",
        "*   Onde:\n",
        "*   x: é o valor a ser normalizado\n",
        "*   min(A): é o menor valor da lista de dados para a posição específica, por exemplo, se estamos normalizando o valor do index [0] da tupla, temos que encontrar o menor valor do index [0] dentro do conjunto de dados.\n",
        "*   max(A): é o maior valor da lista de dados para a posição específica, por exemplo, se estamos normalizando o valor do index [0] da tupla, temos que encontrar o maior valor do index [0] dentro do conjunto de dados.\n",
        "*   Caso esses vaores sejam iguais, gerando uma divisão por zero, vamos atribuir um valor padrão de 0.5."
      ],
      "metadata": {
        "id": "CmS808ZfRYfC"
      }
    },
    {
      "cell_type": "code",
      "source": [
        "def normaliza(dadosPnormalizar):\n",
        "  'Toma uma lista de listas, onde o index[2] de cada sublista é uma tupla com 4 números float, e retotna os elementos, dessas tuplas, normalizados.'\n",
        "  valorNormalizadoPadrao = 0.50 # caso o max == min\n",
        "  for a in range(4):\n",
        "    min = 99999\n",
        "    max = 0\n",
        "    for minimo in dadosPnormalizar:\n",
        "      if minimo[2][a] < min:\n",
        "        min = minimo[2][a]\n",
        "    for maximo in dadosPnormalizar:\n",
        "      if maximo[2][a] > max:\n",
        "        max = maximo[2][a]\n",
        "    for normalizar in dadosPnormalizar:\n",
        "      if max == min:\n",
        "        normalizar[2][a] = valorNormalizadoPadrao\n",
        "      else:\n",
        "        valorNormalizado = (normalizar[2][a] - min) / (max - min)\n",
        "        normalizar[2][a] = round(valorNormalizado, 2) #usando a função round para limitar em 2 o número de casas decimais.\n",
        "  return dadosPnormalizar\n",
        "\n",
        "#dadosNormalizados = normaliza(dadosConvertidosLista)\n",
        "#dadosNormalizados"
      ],
      "metadata": {
        "id": "uKuCXhfnEu-v"
      },
      "execution_count": 17,
      "outputs": []
    },
    {
      "cell_type": "markdown",
      "source": [
        "5.   Após a normalização, vamos adaptar o algoritmo utilizado por ADENIYI e colaboradores, em 2014, para encontrar o valor de K.\n",
        "6. Para essa etapa, criei a função defineK(listaTreino)\n",
        "\n",
        "\n",
        "*   O valor de K será definido quando a função defineK(listaTreino) tomar como entrada a lista normalizada com os dados de clientes com perfil classificado.\n",
        "*   A função, defineK(listatreino), retorna o valor de K, usando a função distancia(listaEntrada, treino), criada para calcular a distância Euclidiana entre o 1º elemento da listaTreino e os demais desta mesma lista.\n",
        "*   Em seguida, organiza em ordem crescente, a partir de outra função, ordenaCrescente(listaDistancia), os dados retornados da função distancia.\n",
        "*   Como os primeiros valores são os mais próximos dos dados apresentados na listaEntrada, usada para treinar o modelo, o próximo passo foi contar quantos clientes com o mesmo perfil da listaEntrada tiveram a menor distância em sequência. Para essa tarefa, criamos a função contaConsecutivos(classe, listaOrdenada).\n",
        "*   Para eveitar empates, caso o valor retornado em contaConsecutivos for par, faremos a subtração por 1. Se não, o valordeKCorrigido será o valor retornado na função ContaConsecutivos.\n"
      ],
      "metadata": {
        "id": "nVOX_n3n3LBz"
      }
    },
    {
      "cell_type": "code",
      "source": [
        "def distancia(listaEntrada, treino):\n",
        "  'Função que toma uma lista com uma única lista (dados de um cliente) de entrada e retorna um lista com distância Euclidiana entre cada elemento do argumento \"treino\" e listaEntrada.'\n",
        "  listaDistancia = []\n",
        "  for elemento in treino:\n",
        "    subQuad = 0\n",
        "    listaAux = []\n",
        "    for i in range(4):\n",
        "      operacao = ((elemento[2][i]) - (listaEntrada[0][2][i]))**2\n",
        "      subQuad += operacao\n",
        "    distancia = round(subQuad**(1/2), 2)\n",
        "    listaAux.append(elemento[0])\n",
        "    listaAux.append(elemento[1])\n",
        "    listaAux.append(distancia)\n",
        "    listaDistancia.append(listaAux)\n",
        "  return listaDistancia\n",
        "\n",
        "#distancia1 = distancia(dadosTreino, dadosNormalizados)\n",
        "#distancia1\n",
        "\n",
        "\n"
      ],
      "metadata": {
        "id": "LqcN4piL3gRz"
      },
      "execution_count": 18,
      "outputs": []
    },
    {
      "cell_type": "code",
      "source": [
        "def ordenaCrescente(listaDistancia):\n",
        "  'Toma uma lista de listas com as distâncias e retorna em ordem crescente.'\n",
        "  for i in range(len(listaDistancia) - 1):\n",
        "    for j in range(i + 1, len(listaDistancia)):\n",
        "      if listaDistancia[i][2] > listaDistancia[j][2]:\n",
        "        listaDistancia[i], listaDistancia[j] = listaDistancia[j], listaDistancia[i]\n",
        "  return listaDistancia\n",
        "\n",
        "#listaOrdemCrescente = ordenaCrescente(distancia1)\n",
        "#listaOrdemCrescente\n"
      ],
      "metadata": {
        "id": "AfHBxwaVdJKN"
      },
      "execution_count": 19,
      "outputs": []
    },
    {
      "cell_type": "code",
      "source": [
        "def contaConsecutivos(classe, listaOrdenada):\n",
        "  'Conta quantos elementos são iguais ao argumento classe e retorna o resultado.'\n",
        "  contagem = 0\n",
        "  for item in listaOrdenada:\n",
        "      if item[1] == classe:\n",
        "            contagem += 1\n",
        "      else:\n",
        "          break\n",
        "  return contagem\n",
        "\n",
        "def defineK(listaTreino):\n",
        "  'Retorna, a partir de uma lista com classes conhecidas, o valor de K.'\n",
        "  listaAux = []\n",
        "  listaAux.append(listaTreino[0])\n",
        "  distanciaTreino = distancia(listaAux, listaTreino)\n",
        "  distanciaTreinoOrdenada = ordenaCrescente(distanciaTreino)\n",
        "  valorK = contaConsecutivos(listaTreino[0][1], distanciaTreinoOrdenada)\n",
        "  if valorK % 2 == 0:\n",
        "    valorDeKCorigido = valorK - 1\n",
        "  else:\n",
        "    valorDeKCorigido = valorK\n",
        "  return valorDeKCorigido\n",
        "\n",
        "#valorDeK = defineK(divideDados, data)\n",
        "#valorDeK\n"
      ],
      "metadata": {
        "id": "h6zyimoZq0kl"
      },
      "execution_count": 20,
      "outputs": []
    },
    {
      "cell_type": "markdown",
      "source": [
        "7. Após encontrar o valor de K, temos condições de estimar a classe dos clientes na lista (no_class).\n",
        "8. Teremos que iterar sobre cada elemento da lista que contém os dados normalizados dos clientes sem classificação.\n",
        "9. Calcular a distância e, em seguida, ordená-la, tudo com as funções anteriormente definidadas.\n",
        "10. Então, para predizer a classe, iremos iterar sobre essa lista ordenada em um range == ao valor de K. O código irá guardar a classe dos 'K' clientes mais próximos ao cliente-teste, e retornará a predição cuja classe seja maioria, ou, em caso de empates, a classe mais próxima."
      ],
      "metadata": {
        "id": "bVU509-QTwGG"
      }
    },
    {
      "cell_type": "code",
      "source": [
        "def classificaSemClasse(dadosSemClasse, dadosComClasse):\n",
        "  'Modelo K-NN que estima o perfil do investidor (dadosSemClasse) a partir de dados conhecidos (dadosComClasse).'\n",
        "  sample = amostraNaoAleatoria(dadosComClasse)\n",
        "  dadosComClasseConvertidosLista = converteEmLista(sample)\n",
        "  dadosSemClasseConvertidosLista = converteEmLista(dadosSemClasse)\n",
        "\n",
        "  listaTodosDados = []\n",
        "  for dadoClasse in dadosComClasseConvertidosLista:\n",
        "    listaTodosDados.append(dadoClasse)\n",
        "  for dadoSemClasse in dadosSemClasseConvertidosLista:\n",
        "    listaTodosDados.append(dadoSemClasse)\n",
        "\n",
        "  todosNormalizados = normaliza(listaTodosDados)\n",
        "\n",
        "  listaSemClasseNormalizada = []\n",
        "  ListaComClasseNormalizados = []\n",
        "\n",
        "  for dado in todosNormalizados:\n",
        "    if dado[1] == '':\n",
        "      listaSemClasseNormalizada.append(dado)\n",
        "    else:\n",
        "      ListaComClasseNormalizados.append(dado)\n",
        "  valorDeK = defineK(ListaComClasseNormalizados)\n",
        "  listaTesteClassificada = []\n",
        "  for classifica in listaSemClasseNormalizada:\n",
        "    listaDadoSemClasse = []\n",
        "    listaDadoSemClasse.append(classifica)\n",
        "    distanciaTeste = distancia(listaDadoSemClasse, ListaComClasseNormalizados)\n",
        "    distanciaTesteOrdenada = ordenaCrescente(distanciaTeste)\n",
        "\n",
        "    listaDeClasses = []\n",
        "    for k in range(valorDeK):\n",
        "      listaDeClasses.append(distanciaTesteOrdenada[k][1])\n",
        "\n",
        "    classeConservador = listaDeClasses.count('Conservador')\n",
        "    classeModerado = listaDeClasses.count('Moderado')\n",
        "    classeAgressivo = listaDeClasses.count('Agressivo')\n",
        "\n",
        "    if classeConservador > max(classeModerado, classeAgressivo):\n",
        "      dadoClassificado = 'Conservador'\n",
        "    elif classeModerado > max(classeConservador, classeAgressivo):\n",
        "      dadoClassificado = 'Moderado'\n",
        "    elif classeAgressivo > max(classeConservador, classeModerado):\n",
        "      dadoClassificado = 'Agressivo'\n",
        "    else:\n",
        "      dadoClassificado = listaDeClasses[0]\n",
        "\n",
        "    classifica[1] = dadoClassificado\n",
        "\n",
        "    listaTesteClassificada.append(classifica)\n",
        "\n",
        "  print(\"Lista final classificada:\", listaTesteClassificada)\n",
        "  return listaTesteClassificada\n",
        "\n",
        "# Chamada da função com os dados de exemplo\n",
        "predicao = classificaSemClasse(no_class, data)\n",
        "predicao\n",
        "\n",
        "\n",
        "\n"
      ],
      "metadata": {
        "colab": {
          "base_uri": "https://localhost:8080/"
        },
        "id": "ROMrN2DjLA7p",
        "outputId": "b68586c5-79b3-4911-f827-7503b4e1faed"
      },
      "execution_count": 21,
      "outputs": [
        {
          "output_type": "stream",
          "name": "stdout",
          "text": [
            "Lista final classificada: [[45926320819, 'Conservador', [0.42, 0.83, 0.03, 0.04]], [52559670741, 'Conservador', [0.39, 1.0, 0.08, 0.12]], [59016004832, 'Conservador', [0.3, 0.79, 0.05, 0.12]], [66175672425, 'Conservador', [0.21, 0.62, 0.07, 0.08]], [53330429526, 'Conservador', [0.39, 0.75, 0.12, 0.08]], [43765563403, 'Conservador', [0.21, 0.75, 0.08, 0.08]], [68020822591, 'Conservador', [0.3, 0.58, 0.12, 0.04]], [53939481689, 'Conservador', [0.21, 0.71, 0.08, 0.12]], [47014057561, 'Conservador', [0.06, 0.67, 0.0, 0.04]], [57183542047, 'Conservador', [0.21, 0.54, 0.12, 0.17]], [68518284363, 'Moderado', [0.18, 0.0, 0.42, 0.38]], [65806049885, 'Moderado', [0.45, 0.42, 0.54, 0.58]], [54128073086, 'Moderado', [0.48, 0.08, 0.51, 0.38]], [41306785494, 'Moderado', [0.52, 0.38, 0.63, 0.54]], [65234831039, 'Moderado', [0.36, 0.38, 0.44, 0.5]], [50964498067, 'Moderado', [0.7, 0.46, 0.58, 0.54]], [50810951429, 'Moderado', [0.36, 0.42, 0.59, 0.58]], [48765044397, 'Moderado', [0.42, 0.29, 0.53, 0.38]], [41960083761, 'Moderado', [0.55, 0.08, 0.59, 0.58]], [76657763082, 'Moderado', [0.36, 0.21, 0.49, 0.42]], [64726487742, 'Agressivo', [0.64, 0.5, 0.69, 0.79]], [75746566283, 'Agressivo', [0.61, 0.29, 0.73, 0.75]], [78576734793, 'Agressivo', [0.73, 0.42, 0.76, 0.83]], [56440141847, 'Agressivo', [0.39, 0.21, 0.68, 0.79]], [66827423000, 'Agressivo', [0.42, 0.33, 0.69, 0.96]], [45267873396, 'Agressivo', [0.61, 0.5, 0.73, 0.92]], [46387191493, 'Agressivo', [0.64, 0.42, 0.76, 0.71]], [54273611732, 'Agressivo', [1.0, 0.75, 0.97, 0.88]], [75135392881, 'Agressivo', [1.0, 0.25, 1.0, 0.92]], [64703873108, 'Moderado', [0.48, 0.08, 0.68, 0.58]]]\n"
          ]
        },
        {
          "output_type": "execute_result",
          "data": {
            "text/plain": [
              "[[45926320819, 'Conservador', [0.42, 0.83, 0.03, 0.04]],\n",
              " [52559670741, 'Conservador', [0.39, 1.0, 0.08, 0.12]],\n",
              " [59016004832, 'Conservador', [0.3, 0.79, 0.05, 0.12]],\n",
              " [66175672425, 'Conservador', [0.21, 0.62, 0.07, 0.08]],\n",
              " [53330429526, 'Conservador', [0.39, 0.75, 0.12, 0.08]],\n",
              " [43765563403, 'Conservador', [0.21, 0.75, 0.08, 0.08]],\n",
              " [68020822591, 'Conservador', [0.3, 0.58, 0.12, 0.04]],\n",
              " [53939481689, 'Conservador', [0.21, 0.71, 0.08, 0.12]],\n",
              " [47014057561, 'Conservador', [0.06, 0.67, 0.0, 0.04]],\n",
              " [57183542047, 'Conservador', [0.21, 0.54, 0.12, 0.17]],\n",
              " [68518284363, 'Moderado', [0.18, 0.0, 0.42, 0.38]],\n",
              " [65806049885, 'Moderado', [0.45, 0.42, 0.54, 0.58]],\n",
              " [54128073086, 'Moderado', [0.48, 0.08, 0.51, 0.38]],\n",
              " [41306785494, 'Moderado', [0.52, 0.38, 0.63, 0.54]],\n",
              " [65234831039, 'Moderado', [0.36, 0.38, 0.44, 0.5]],\n",
              " [50964498067, 'Moderado', [0.7, 0.46, 0.58, 0.54]],\n",
              " [50810951429, 'Moderado', [0.36, 0.42, 0.59, 0.58]],\n",
              " [48765044397, 'Moderado', [0.42, 0.29, 0.53, 0.38]],\n",
              " [41960083761, 'Moderado', [0.55, 0.08, 0.59, 0.58]],\n",
              " [76657763082, 'Moderado', [0.36, 0.21, 0.49, 0.42]],\n",
              " [64726487742, 'Agressivo', [0.64, 0.5, 0.69, 0.79]],\n",
              " [75746566283, 'Agressivo', [0.61, 0.29, 0.73, 0.75]],\n",
              " [78576734793, 'Agressivo', [0.73, 0.42, 0.76, 0.83]],\n",
              " [56440141847, 'Agressivo', [0.39, 0.21, 0.68, 0.79]],\n",
              " [66827423000, 'Agressivo', [0.42, 0.33, 0.69, 0.96]],\n",
              " [45267873396, 'Agressivo', [0.61, 0.5, 0.73, 0.92]],\n",
              " [46387191493, 'Agressivo', [0.64, 0.42, 0.76, 0.71]],\n",
              " [54273611732, 'Agressivo', [1.0, 0.75, 0.97, 0.88]],\n",
              " [75135392881, 'Agressivo', [1.0, 0.25, 1.0, 0.92]],\n",
              " [64703873108, 'Moderado', [0.48, 0.08, 0.68, 0.58]]]"
            ]
          },
          "metadata": {},
          "execution_count": 21
        }
      ]
    }
  ]
}